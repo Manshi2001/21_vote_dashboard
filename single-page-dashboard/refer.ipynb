{
 "cells": [
  {
   "cell_type": "code",
   "execution_count": null,
   "metadata": {},
   "outputs": [],
   "source": [
    "import pandas as pd\n",
    "from dash import Dash, dcc, html\n",
    "\n",
    "data = (\n",
    "    pd.read_csv(\"avocado.csv\")\n",
    "    .query(\"type == 'conventional' and region == 'Albany'\")\n",
    "    .assign(Date=lambda data: pd.to_datetime(data[\"Date\"], format=\"%Y-%m-%d\"))\n",
    "    .sort_values(by=\"Date\")\n",
    ")\n",
    "\n",
    "app = Dash(__name__)"
   ]
  },
  {
   "cell_type": "code",
   "execution_count": null,
   "metadata": {},
   "outputs": [],
   "source": [
    "app.layout = html.Div(\n",
    "    children=[\n",
    "        html.H1(\n",
    "    children=\"Avocado Analytics\",\n",
    "    style={\"fontSize\": \"48px\", \"color\": \"red\",\"text-align\" : \"center\",\"max-width\": \"384px\"},\n",
    "        ),\n",
    "        html.P(\n",
    "            children=(\n",
    "                \"Analyze the behavior of avocado prices and the number\"\n",
    "                \" of avocados sold in the US between 2015 and 2018\"\n",
    "            ),\n",
    "        ),\n",
    "        dcc.Graph(\n",
    "            figure={\n",
    "                \"data\": [\n",
    "                    {\n",
    "                        \"x\": data[\"Date\"],\n",
    "                        \"y\": data[\"AveragePrice\"],\n",
    "                        \"type\": \"lines\",\n",
    "                    },\n",
    "                ],\n",
    "                \"layout\": {\"title\": \"Average Price of Avocados\"},\n",
    "            },\n",
    "        ),\n",
    "        dcc.Graph(\n",
    "            figure={\n",
    "                \"data\": [\n",
    "                    {\n",
    "                        \"x\": data[\"Date\"],\n",
    "                        \"y\": data[\"Total Volume\"],\n",
    "                        \"type\": \"lines\",\n",
    "                    },\n",
    "                ],\n",
    "                \"layout\": {\"title\": \"Avocados Sold\"},\n",
    "            },\n",
    "        ),\n",
    "    ]\n",
    ")"
   ]
  },
  {
   "cell_type": "code",
   "execution_count": null,
   "metadata": {},
   "outputs": [],
   "source": [
    "if __name__ == \"__main__\":\n",
    "    app.run_server(debug=True)"
   ]
  },
  {
   "cell_type": "code",
   "execution_count": null,
   "metadata": {},
   "outputs": [],
   "source": [
    "external_stylesheets = [\n",
    "    {\n",
    "        \"href\": (\n",
    "            \"https://fonts.googleapis.com/css2?\"\n",
    "            \"family=Lato:wght@400;700&display=swap\"\n",
    "        ),\n",
    "        \"rel\": \"stylesheet\",\n",
    "    },\n",
    "]\n",
    "app = dash.Dash(__name__, external_stylesheets=external_stylesheets)\n",
    "app.title = \"Avocado Analytics: Understand Your Avocados!\""
   ]
  },
  {
   "cell_type": "code",
   "execution_count": null,
   "metadata": {},
   "outputs": [],
   "source": []
  },
  {
   "cell_type": "code",
   "execution_count": null,
   "metadata": {},
   "outputs": [],
   "source": []
  },
  {
   "cell_type": "code",
   "execution_count": null,
   "metadata": {},
   "outputs": [],
   "source": []
  },
  {
   "cell_type": "code",
   "execution_count": null,
   "metadata": {},
   "outputs": [],
   "source": []
  },
  {
   "cell_type": "code",
   "execution_count": null,
   "metadata": {},
   "outputs": [],
   "source": []
  },
  {
   "cell_type": "code",
   "execution_count": null,
   "metadata": {},
   "outputs": [],
   "source": []
  },
  {
   "cell_type": "code",
   "execution_count": null,
   "metadata": {},
   "outputs": [],
   "source": []
  }
 ],
 "metadata": {
  "language_info": {
   "name": "python"
  }
 },
 "nbformat": 4,
 "nbformat_minor": 2
}
